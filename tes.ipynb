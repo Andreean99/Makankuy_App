{
 "cells": [
  {
   "cell_type": "code",
   "execution_count": 1,
   "metadata": {},
   "outputs": [
    {
     "ename": "AttributeError",
     "evalue": "Can't get attribute 'recommend' on <module '__main__'>",
     "output_type": "error",
     "traceback": [
      "\u001b[1;31m---------------------------------------------------------------------------\u001b[0m",
      "\u001b[1;31mAttributeError\u001b[0m                            Traceback (most recent call last)",
      "\u001b[1;32md:\\DATA MASYARAKAT\\Confidential\\Preparation for Next Chapter\\Hacktiv8\\Assignments\\Graded Challenge\\Phase 2\\Final Project\\deployment\\tes.ipynb Cell 1'\u001b[0m in \u001b[0;36m<cell line: 2>\u001b[1;34m()\u001b[0m\n\u001b[0;32m      <a href='vscode-notebook-cell:/d%3A/DATA%20MASYARAKAT/Confidential/Preparation%20for%20Next%20Chapter/Hacktiv8/Assignments/Graded%20Challenge/Phase%202/Final%20Project/deployment/tes.ipynb#ch0000000?line=0'>1</a>\u001b[0m \u001b[39mimport\u001b[39;00m \u001b[39mpickle\u001b[39;00m\n\u001b[0;32m      <a href='vscode-notebook-cell:/d%3A/DATA%20MASYARAKAT/Confidential/Preparation%20for%20Next%20Chapter/Hacktiv8/Assignments/Graded%20Challenge/Phase%202/Final%20Project/deployment/tes.ipynb#ch0000000?line=1'>2</a>\u001b[0m \u001b[39mwith\u001b[39;00m \u001b[39mopen\u001b[39m(\u001b[39m'\u001b[39m\u001b[39mrecommender.pkl\u001b[39m\u001b[39m'\u001b[39m, \u001b[39m'\u001b[39m\u001b[39mrb\u001b[39m\u001b[39m'\u001b[39m) \u001b[39mas\u001b[39;00m rcmnd:\n\u001b[1;32m----> <a href='vscode-notebook-cell:/d%3A/DATA%20MASYARAKAT/Confidential/Preparation%20for%20Next%20Chapter/Hacktiv8/Assignments/Graded%20Challenge/Phase%202/Final%20Project/deployment/tes.ipynb#ch0000000?line=2'>3</a>\u001b[0m     recommender \u001b[39m=\u001b[39m pickle\u001b[39m.\u001b[39;49mload(rcmnd)\n",
      "\u001b[1;31mAttributeError\u001b[0m: Can't get attribute 'recommend' on <module '__main__'>"
     ]
    }
   ],
   "source": [
    "import pickle\n",
    "with open('recommender.pkl', 'rb') as f:\n",
    "    recommender = pickle.load(f)"
   ]
  },
  {
   "cell_type": "code",
   "execution_count": null,
   "metadata": {},
   "outputs": [],
   "source": []
  }
 ],
 "metadata": {
  "kernelspec": {
   "display_name": "Python 3.10.2 64-bit",
   "language": "python",
   "name": "python3"
  },
  "language_info": {
   "codemirror_mode": {
    "name": "ipython",
    "version": 3
   },
   "file_extension": ".py",
   "mimetype": "text/x-python",
   "name": "python",
   "nbconvert_exporter": "python",
   "pygments_lexer": "ipython3",
   "version": "3.10.2"
  },
  "orig_nbformat": 4,
  "vscode": {
   "interpreter": {
    "hash": "fbc768028c3e6ead51d9a200ddcb2ec858ae62844dcd1994729a8279be9b48f2"
   }
  }
 },
 "nbformat": 4,
 "nbformat_minor": 2
}
